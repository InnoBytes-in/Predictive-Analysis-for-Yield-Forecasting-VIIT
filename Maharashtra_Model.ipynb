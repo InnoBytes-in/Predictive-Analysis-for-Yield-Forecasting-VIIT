{
  "cells": [
    {
      "cell_type": "code",
      "execution_count": null,
      "metadata": {
        "id": "rPnWaXdPdqBk"
      },
      "outputs": [],
      "source": [
        "import pandas as pd\n",
        "import numpy as np\n",
        "import pickle"
      ]
    },
    {
      "cell_type": "code",
      "execution_count": null,
      "metadata": {
        "id": "ctxUsOUIdqBn"
      },
      "outputs": [],
      "source": [
        "total_crop_dataset = pd.read_csv('../crop_production.csv')"
      ]
    },
    {
      "cell_type": "code",
      "execution_count": null,
      "metadata": {
        "id": "-myqX5OpdqBo"
      },
      "outputs": [],
      "source": [
        "maharashtra = total_crop_dataset[total_crop_dataset['State_Name']=='Maharashtra']"
      ]
    },
    {
      "cell_type": "code",
      "execution_count": null,
      "metadata": {
        "id": "uePab8SPdqBp",
        "outputId": "d162f5bc-512c-4391-a65e-fe9aaeb31db8"
      },
      "outputs": [
        {
          "data": {
            "text/html": [
              "<div>\n",
              "<style scoped>\n",
              "    .dataframe tbody tr th:only-of-type {\n",
              "        vertical-align: middle;\n",
              "    }\n",
              "\n",
              "    .dataframe tbody tr th {\n",
              "        vertical-align: top;\n",
              "    }\n",
              "\n",
              "    .dataframe thead th {\n",
              "        text-align: right;\n",
              "    }\n",
              "</style>\n",
              "<table border=\"1\" class=\"dataframe\">\n",
              "  <thead>\n",
              "    <tr style=\"text-align: right;\">\n",
              "      <th></th>\n",
              "      <th>State_Name</th>\n",
              "      <th>District_Name</th>\n",
              "      <th>Crop_Year</th>\n",
              "      <th>Season</th>\n",
              "      <th>Crop</th>\n",
              "      <th>Area</th>\n",
              "      <th>Production</th>\n",
              "    </tr>\n",
              "  </thead>\n",
              "  <tbody>\n",
              "    <tr>\n",
              "      <th>125191</th>\n",
              "      <td>Maharashtra</td>\n",
              "      <td>AHMEDNAGAR</td>\n",
              "      <td>1997</td>\n",
              "      <td>Autumn</td>\n",
              "      <td>Maize</td>\n",
              "      <td>1.0</td>\n",
              "      <td>1113.0</td>\n",
              "    </tr>\n",
              "    <tr>\n",
              "      <th>125192</th>\n",
              "      <td>Maharashtra</td>\n",
              "      <td>AHMEDNAGAR</td>\n",
              "      <td>1997</td>\n",
              "      <td>Kharif</td>\n",
              "      <td>Arhar/Tur</td>\n",
              "      <td>17600.0</td>\n",
              "      <td>6300.0</td>\n",
              "    </tr>\n",
              "    <tr>\n",
              "      <th>125193</th>\n",
              "      <td>Maharashtra</td>\n",
              "      <td>AHMEDNAGAR</td>\n",
              "      <td>1997</td>\n",
              "      <td>Kharif</td>\n",
              "      <td>Bajra</td>\n",
              "      <td>274100.0</td>\n",
              "      <td>152800.0</td>\n",
              "    </tr>\n",
              "    <tr>\n",
              "      <th>125194</th>\n",
              "      <td>Maharashtra</td>\n",
              "      <td>AHMEDNAGAR</td>\n",
              "      <td>1997</td>\n",
              "      <td>Kharif</td>\n",
              "      <td>Gram</td>\n",
              "      <td>40800.0</td>\n",
              "      <td>18600.0</td>\n",
              "    </tr>\n",
              "    <tr>\n",
              "      <th>125195</th>\n",
              "      <td>Maharashtra</td>\n",
              "      <td>AHMEDNAGAR</td>\n",
              "      <td>1997</td>\n",
              "      <td>Kharif</td>\n",
              "      <td>Jowar</td>\n",
              "      <td>900.0</td>\n",
              "      <td>1100.0</td>\n",
              "    </tr>\n",
              "  </tbody>\n",
              "</table>\n",
              "</div>"
            ],
            "text/plain": [
              "         State_Name District_Name  Crop_Year       Season       Crop  \\\n",
              "125191  Maharashtra    AHMEDNAGAR       1997  Autumn           Maize   \n",
              "125192  Maharashtra    AHMEDNAGAR       1997  Kharif       Arhar/Tur   \n",
              "125193  Maharashtra    AHMEDNAGAR       1997  Kharif           Bajra   \n",
              "125194  Maharashtra    AHMEDNAGAR       1997  Kharif            Gram   \n",
              "125195  Maharashtra    AHMEDNAGAR       1997  Kharif           Jowar   \n",
              "\n",
              "            Area  Production  \n",
              "125191       1.0      1113.0  \n",
              "125192   17600.0      6300.0  \n",
              "125193  274100.0    152800.0  \n",
              "125194   40800.0     18600.0  \n",
              "125195     900.0      1100.0  "
            ]
          },
          "execution_count": 114,
          "metadata": {},
          "output_type": "execute_result"
        }
      ],
      "source": [
        "maharashtra.head()"
      ]
    },
    {
      "cell_type": "code",
      "execution_count": null,
      "metadata": {
        "id": "tscoxfVUdqBq",
        "outputId": "6212fb42-a229-4c16-9aa9-582b7274807c"
      },
      "outputs": [
        {
          "name": "stdout",
          "output_type": "stream",
          "text": [
            "<class 'pandas.core.frame.DataFrame'>\n",
            "Int64Index: 12628 entries, 125191 to 137818\n",
            "Data columns (total 7 columns):\n",
            " #   Column         Non-Null Count  Dtype  \n",
            "---  ------         --------------  -----  \n",
            " 0   State_Name     12628 non-null  object \n",
            " 1   District_Name  12628 non-null  object \n",
            " 2   Crop_Year      12628 non-null  int64  \n",
            " 3   Season         12628 non-null  object \n",
            " 4   Crop           12628 non-null  object \n",
            " 5   Area           12628 non-null  float64\n",
            " 6   Production     12496 non-null  float64\n",
            "dtypes: float64(2), int64(1), object(4)\n",
            "memory usage: 789.2+ KB\n"
          ]
        }
      ],
      "source": [
        "maharashtra.info()"
      ]
    },
    {
      "cell_type": "code",
      "execution_count": null,
      "metadata": {
        "id": "dGmAwWmrdqBr",
        "outputId": "7e26b0b7-ade8-426e-a59c-b925d8942377"
      },
      "outputs": [
        {
          "data": {
            "text/plain": [
              "State_Name         0\n",
              "District_Name      0\n",
              "Crop_Year          0\n",
              "Season             0\n",
              "Crop               0\n",
              "Area               0\n",
              "Production       132\n",
              "dtype: int64"
            ]
          },
          "execution_count": 116,
          "metadata": {},
          "output_type": "execute_result"
        }
      ],
      "source": [
        "maharashtra.isnull().sum()"
      ]
    },
    {
      "cell_type": "code",
      "execution_count": null,
      "metadata": {
        "id": "RxxI2yThdqBr"
      },
      "outputs": [],
      "source": [
        "maharashtra = maharashtra.dropna()"
      ]
    },
    {
      "cell_type": "code",
      "execution_count": null,
      "metadata": {
        "id": "qNQlqRHLdqBs",
        "outputId": "5cad8513-2235-4ed5-ec41-54385e0a5bd0"
      },
      "outputs": [
        {
          "data": {
            "text/plain": [
              "35"
            ]
          },
          "execution_count": 118,
          "metadata": {},
          "output_type": "execute_result"
        }
      ],
      "source": [
        "maharashtra['District_Name'].nunique()"
      ]
    },
    {
      "cell_type": "code",
      "execution_count": null,
      "metadata": {
        "id": "eJH-GK4NdqBt"
      },
      "outputs": [],
      "source": [
        "maharashtra_filtered = maharashtra[\n",
        "    (maharashtra['Crop']=='Wheat') |\n",
        "    (maharashtra['Crop']=='Rice')  |\n",
        "    (maharashtra['Crop']=='Jowar')  |\n",
        "    (maharashtra['Crop']=='Bajra')  |\n",
        "    (maharashtra['Crop']=='Cardamom')  |\n",
        "    (maharashtra['Crop']=='Garlic')  |\n",
        "    (maharashtra['Crop']=='Turmeric')  |\n",
        "    (maharashtra['Crop']=='Ginger')  |\n",
        "    (maharashtra['Crop']=='Cotton(lint)')  |\n",
        "    (maharashtra['Crop']=='Linseed')  |\n",
        "    (maharashtra['Crop']=='Sesamum')  |\n",
        "    (maharashtra['Crop']=='Coconut ')  |\n",
        "    (maharashtra['Crop']=='Onion')  |\n",
        "    (maharashtra['Crop']=='Arhar/Tur')  |\n",
        "    (maharashtra['Crop']=='Potato')  |\n",
        "    (maharashtra['Crop']=='Maize')\n",
        "]"
      ]
    },
    {
      "cell_type": "code",
      "execution_count": null,
      "metadata": {
        "id": "BJ32aspkdqBu",
        "outputId": "db9a8637-3a1c-4f8a-dece-3270aa81d6a8"
      },
      "outputs": [
        {
          "name": "stdout",
          "output_type": "stream",
          "text": [
            "<class 'pandas.core.frame.DataFrame'>\n",
            "Int64Index: 5465 entries, 125191 to 137816\n",
            "Data columns (total 7 columns):\n",
            " #   Column         Non-Null Count  Dtype  \n",
            "---  ------         --------------  -----  \n",
            " 0   State_Name     5465 non-null   object \n",
            " 1   District_Name  5465 non-null   object \n",
            " 2   Crop_Year      5465 non-null   int64  \n",
            " 3   Season         5465 non-null   object \n",
            " 4   Crop           5465 non-null   object \n",
            " 5   Area           5465 non-null   float64\n",
            " 6   Production     5465 non-null   float64\n",
            "dtypes: float64(2), int64(1), object(4)\n",
            "memory usage: 341.6+ KB\n"
          ]
        }
      ],
      "source": [
        "maharashtra_filtered.info()"
      ]
    },
    {
      "cell_type": "code",
      "execution_count": null,
      "metadata": {
        "id": "w2H5CrBXdqBu"
      },
      "outputs": [],
      "source": [
        "maharashtra_filtered_ohe = pd.get_dummies(maharashtra_filtered, columns=['District_Name', 'Season','Crop'],drop_first=True)"
      ]
    },
    {
      "cell_type": "code",
      "execution_count": null,
      "metadata": {
        "id": "OW_VodZrdqBv",
        "outputId": "e0700545-5fd3-4add-950b-c57351ac84ae"
      },
      "outputs": [
        {
          "data": {
            "text/html": [
              "<div>\n",
              "<style scoped>\n",
              "    .dataframe tbody tr th:only-of-type {\n",
              "        vertical-align: middle;\n",
              "    }\n",
              "\n",
              "    .dataframe tbody tr th {\n",
              "        vertical-align: top;\n",
              "    }\n",
              "\n",
              "    .dataframe thead th {\n",
              "        text-align: right;\n",
              "    }\n",
              "</style>\n",
              "<table border=\"1\" class=\"dataframe\">\n",
              "  <thead>\n",
              "    <tr style=\"text-align: right;\">\n",
              "      <th></th>\n",
              "      <th>State_Name</th>\n",
              "      <th>Crop_Year</th>\n",
              "      <th>Area</th>\n",
              "      <th>Production</th>\n",
              "      <th>District_Name_AKOLA</th>\n",
              "      <th>District_Name_AMRAVATI</th>\n",
              "      <th>District_Name_AURANGABAD</th>\n",
              "      <th>District_Name_BEED</th>\n",
              "      <th>District_Name_BHANDARA</th>\n",
              "      <th>District_Name_BULDHANA</th>\n",
              "      <th>...</th>\n",
              "      <th>Season_Whole Year</th>\n",
              "      <th>Crop_Bajra</th>\n",
              "      <th>Crop_Cotton(lint)</th>\n",
              "      <th>Crop_Jowar</th>\n",
              "      <th>Crop_Linseed</th>\n",
              "      <th>Crop_Maize</th>\n",
              "      <th>Crop_Onion</th>\n",
              "      <th>Crop_Rice</th>\n",
              "      <th>Crop_Sesamum</th>\n",
              "      <th>Crop_Wheat</th>\n",
              "    </tr>\n",
              "  </thead>\n",
              "  <tbody>\n",
              "    <tr>\n",
              "      <th>125191</th>\n",
              "      <td>Maharashtra</td>\n",
              "      <td>1997</td>\n",
              "      <td>1.0</td>\n",
              "      <td>1113.0</td>\n",
              "      <td>0</td>\n",
              "      <td>0</td>\n",
              "      <td>0</td>\n",
              "      <td>0</td>\n",
              "      <td>0</td>\n",
              "      <td>0</td>\n",
              "      <td>...</td>\n",
              "      <td>0</td>\n",
              "      <td>0</td>\n",
              "      <td>0</td>\n",
              "      <td>0</td>\n",
              "      <td>0</td>\n",
              "      <td>1</td>\n",
              "      <td>0</td>\n",
              "      <td>0</td>\n",
              "      <td>0</td>\n",
              "      <td>0</td>\n",
              "    </tr>\n",
              "    <tr>\n",
              "      <th>125192</th>\n",
              "      <td>Maharashtra</td>\n",
              "      <td>1997</td>\n",
              "      <td>17600.0</td>\n",
              "      <td>6300.0</td>\n",
              "      <td>0</td>\n",
              "      <td>0</td>\n",
              "      <td>0</td>\n",
              "      <td>0</td>\n",
              "      <td>0</td>\n",
              "      <td>0</td>\n",
              "      <td>...</td>\n",
              "      <td>0</td>\n",
              "      <td>0</td>\n",
              "      <td>0</td>\n",
              "      <td>0</td>\n",
              "      <td>0</td>\n",
              "      <td>0</td>\n",
              "      <td>0</td>\n",
              "      <td>0</td>\n",
              "      <td>0</td>\n",
              "      <td>0</td>\n",
              "    </tr>\n",
              "    <tr>\n",
              "      <th>125193</th>\n",
              "      <td>Maharashtra</td>\n",
              "      <td>1997</td>\n",
              "      <td>274100.0</td>\n",
              "      <td>152800.0</td>\n",
              "      <td>0</td>\n",
              "      <td>0</td>\n",
              "      <td>0</td>\n",
              "      <td>0</td>\n",
              "      <td>0</td>\n",
              "      <td>0</td>\n",
              "      <td>...</td>\n",
              "      <td>0</td>\n",
              "      <td>1</td>\n",
              "      <td>0</td>\n",
              "      <td>0</td>\n",
              "      <td>0</td>\n",
              "      <td>0</td>\n",
              "      <td>0</td>\n",
              "      <td>0</td>\n",
              "      <td>0</td>\n",
              "      <td>0</td>\n",
              "    </tr>\n",
              "    <tr>\n",
              "      <th>125195</th>\n",
              "      <td>Maharashtra</td>\n",
              "      <td>1997</td>\n",
              "      <td>900.0</td>\n",
              "      <td>1100.0</td>\n",
              "      <td>0</td>\n",
              "      <td>0</td>\n",
              "      <td>0</td>\n",
              "      <td>0</td>\n",
              "      <td>0</td>\n",
              "      <td>0</td>\n",
              "      <td>...</td>\n",
              "      <td>0</td>\n",
              "      <td>0</td>\n",
              "      <td>0</td>\n",
              "      <td>1</td>\n",
              "      <td>0</td>\n",
              "      <td>0</td>\n",
              "      <td>0</td>\n",
              "      <td>0</td>\n",
              "      <td>0</td>\n",
              "      <td>0</td>\n",
              "    </tr>\n",
              "    <tr>\n",
              "      <th>125196</th>\n",
              "      <td>Maharashtra</td>\n",
              "      <td>1997</td>\n",
              "      <td>4400.0</td>\n",
              "      <td>4700.0</td>\n",
              "      <td>0</td>\n",
              "      <td>0</td>\n",
              "      <td>0</td>\n",
              "      <td>0</td>\n",
              "      <td>0</td>\n",
              "      <td>0</td>\n",
              "      <td>...</td>\n",
              "      <td>0</td>\n",
              "      <td>0</td>\n",
              "      <td>0</td>\n",
              "      <td>0</td>\n",
              "      <td>0</td>\n",
              "      <td>1</td>\n",
              "      <td>0</td>\n",
              "      <td>0</td>\n",
              "      <td>0</td>\n",
              "      <td>0</td>\n",
              "    </tr>\n",
              "  </tbody>\n",
              "</table>\n",
              "<p>5 rows × 51 columns</p>\n",
              "</div>"
            ],
            "text/plain": [
              "         State_Name  Crop_Year      Area  Production  District_Name_AKOLA  \\\n",
              "125191  Maharashtra       1997       1.0      1113.0                    0   \n",
              "125192  Maharashtra       1997   17600.0      6300.0                    0   \n",
              "125193  Maharashtra       1997  274100.0    152800.0                    0   \n",
              "125195  Maharashtra       1997     900.0      1100.0                    0   \n",
              "125196  Maharashtra       1997    4400.0      4700.0                    0   \n",
              "\n",
              "        District_Name_AMRAVATI  District_Name_AURANGABAD  District_Name_BEED  \\\n",
              "125191                       0                         0                   0   \n",
              "125192                       0                         0                   0   \n",
              "125193                       0                         0                   0   \n",
              "125195                       0                         0                   0   \n",
              "125196                       0                         0                   0   \n",
              "\n",
              "        District_Name_BHANDARA  District_Name_BULDHANA  ...  \\\n",
              "125191                       0                       0  ...   \n",
              "125192                       0                       0  ...   \n",
              "125193                       0                       0  ...   \n",
              "125195                       0                       0  ...   \n",
              "125196                       0                       0  ...   \n",
              "\n",
              "        Season_Whole Year   Crop_Bajra  Crop_Cotton(lint)  Crop_Jowar  \\\n",
              "125191                   0           0                  0           0   \n",
              "125192                   0           0                  0           0   \n",
              "125193                   0           1                  0           0   \n",
              "125195                   0           0                  0           1   \n",
              "125196                   0           0                  0           0   \n",
              "\n",
              "        Crop_Linseed  Crop_Maize  Crop_Onion  Crop_Rice  Crop_Sesamum  \\\n",
              "125191             0           1           0          0             0   \n",
              "125192             0           0           0          0             0   \n",
              "125193             0           0           0          0             0   \n",
              "125195             0           0           0          0             0   \n",
              "125196             0           1           0          0             0   \n",
              "\n",
              "        Crop_Wheat  \n",
              "125191           0  \n",
              "125192           0  \n",
              "125193           0  \n",
              "125195           0  \n",
              "125196           0  \n",
              "\n",
              "[5 rows x 51 columns]"
            ]
          },
          "execution_count": 182,
          "metadata": {},
          "output_type": "execute_result"
        }
      ],
      "source": [
        "maharashtra_filtered_ohe.head()"
      ]
    },
    {
      "cell_type": "code",
      "execution_count": null,
      "metadata": {
        "id": "8zriEwYxdqBv",
        "outputId": "f79d58bf-33e2-49ba-b8c9-75a414fd42f6"
      },
      "outputs": [
        {
          "data": {
            "text/html": [
              "<div>\n",
              "<style scoped>\n",
              "    .dataframe tbody tr th:only-of-type {\n",
              "        vertical-align: middle;\n",
              "    }\n",
              "\n",
              "    .dataframe tbody tr th {\n",
              "        vertical-align: top;\n",
              "    }\n",
              "\n",
              "    .dataframe thead th {\n",
              "        text-align: right;\n",
              "    }\n",
              "</style>\n",
              "<table border=\"1\" class=\"dataframe\">\n",
              "  <thead>\n",
              "    <tr style=\"text-align: right;\">\n",
              "      <th></th>\n",
              "      <th>128168</th>\n",
              "      <th>129535</th>\n",
              "      <th>129817</th>\n",
              "      <th>131969</th>\n",
              "      <th>134492</th>\n",
              "    </tr>\n",
              "  </thead>\n",
              "  <tbody>\n",
              "    <tr>\n",
              "      <th>State_Name</th>\n",
              "      <td>Maharashtra</td>\n",
              "      <td>Maharashtra</td>\n",
              "      <td>Maharashtra</td>\n",
              "      <td>Maharashtra</td>\n",
              "      <td>Maharashtra</td>\n",
              "    </tr>\n",
              "    <tr>\n",
              "      <th>Crop_Year</th>\n",
              "      <td>2003</td>\n",
              "      <td>2008</td>\n",
              "      <td>2002</td>\n",
              "      <td>2003</td>\n",
              "      <td>2014</td>\n",
              "    </tr>\n",
              "    <tr>\n",
              "      <th>Area</th>\n",
              "      <td>31500</td>\n",
              "      <td>31500</td>\n",
              "      <td>31500</td>\n",
              "      <td>31500</td>\n",
              "      <td>31500</td>\n",
              "    </tr>\n",
              "    <tr>\n",
              "      <th>Production</th>\n",
              "      <td>19600</td>\n",
              "      <td>34500</td>\n",
              "      <td>49900</td>\n",
              "      <td>43500</td>\n",
              "      <td>26300</td>\n",
              "    </tr>\n",
              "    <tr>\n",
              "      <th>District_Name_AKOLA</th>\n",
              "      <td>0</td>\n",
              "      <td>0</td>\n",
              "      <td>0</td>\n",
              "      <td>0</td>\n",
              "      <td>0</td>\n",
              "    </tr>\n",
              "    <tr>\n",
              "      <th>District_Name_AMRAVATI</th>\n",
              "      <td>0</td>\n",
              "      <td>0</td>\n",
              "      <td>0</td>\n",
              "      <td>0</td>\n",
              "      <td>0</td>\n",
              "    </tr>\n",
              "    <tr>\n",
              "      <th>District_Name_AURANGABAD</th>\n",
              "      <td>0</td>\n",
              "      <td>0</td>\n",
              "      <td>0</td>\n",
              "      <td>0</td>\n",
              "      <td>0</td>\n",
              "    </tr>\n",
              "    <tr>\n",
              "      <th>District_Name_BEED</th>\n",
              "      <td>0</td>\n",
              "      <td>0</td>\n",
              "      <td>0</td>\n",
              "      <td>0</td>\n",
              "      <td>0</td>\n",
              "    </tr>\n",
              "    <tr>\n",
              "      <th>District_Name_BHANDARA</th>\n",
              "      <td>0</td>\n",
              "      <td>0</td>\n",
              "      <td>0</td>\n",
              "      <td>0</td>\n",
              "      <td>0</td>\n",
              "    </tr>\n",
              "    <tr>\n",
              "      <th>District_Name_BULDHANA</th>\n",
              "      <td>0</td>\n",
              "      <td>0</td>\n",
              "      <td>0</td>\n",
              "      <td>0</td>\n",
              "      <td>0</td>\n",
              "    </tr>\n",
              "    <tr>\n",
              "      <th>District_Name_CHANDRAPUR</th>\n",
              "      <td>1</td>\n",
              "      <td>0</td>\n",
              "      <td>0</td>\n",
              "      <td>0</td>\n",
              "      <td>0</td>\n",
              "    </tr>\n",
              "    <tr>\n",
              "      <th>District_Name_DHULE</th>\n",
              "      <td>0</td>\n",
              "      <td>0</td>\n",
              "      <td>0</td>\n",
              "      <td>0</td>\n",
              "      <td>0</td>\n",
              "    </tr>\n",
              "    <tr>\n",
              "      <th>District_Name_GADCHIROLI</th>\n",
              "      <td>0</td>\n",
              "      <td>0</td>\n",
              "      <td>0</td>\n",
              "      <td>0</td>\n",
              "      <td>0</td>\n",
              "    </tr>\n",
              "    <tr>\n",
              "      <th>District_Name_GONDIA</th>\n",
              "      <td>0</td>\n",
              "      <td>0</td>\n",
              "      <td>0</td>\n",
              "      <td>0</td>\n",
              "      <td>0</td>\n",
              "    </tr>\n",
              "    <tr>\n",
              "      <th>District_Name_HINGOLI</th>\n",
              "      <td>0</td>\n",
              "      <td>1</td>\n",
              "      <td>0</td>\n",
              "      <td>0</td>\n",
              "      <td>0</td>\n",
              "    </tr>\n",
              "    <tr>\n",
              "      <th>District_Name_JALGAON</th>\n",
              "      <td>0</td>\n",
              "      <td>0</td>\n",
              "      <td>1</td>\n",
              "      <td>0</td>\n",
              "      <td>0</td>\n",
              "    </tr>\n",
              "    <tr>\n",
              "      <th>District_Name_JALNA</th>\n",
              "      <td>0</td>\n",
              "      <td>0</td>\n",
              "      <td>0</td>\n",
              "      <td>0</td>\n",
              "      <td>0</td>\n",
              "    </tr>\n",
              "    <tr>\n",
              "      <th>District_Name_KOLHAPUR</th>\n",
              "      <td>0</td>\n",
              "      <td>0</td>\n",
              "      <td>0</td>\n",
              "      <td>0</td>\n",
              "      <td>0</td>\n",
              "    </tr>\n",
              "    <tr>\n",
              "      <th>District_Name_LATUR</th>\n",
              "      <td>0</td>\n",
              "      <td>0</td>\n",
              "      <td>0</td>\n",
              "      <td>0</td>\n",
              "      <td>0</td>\n",
              "    </tr>\n",
              "    <tr>\n",
              "      <th>District_Name_MUMBAI</th>\n",
              "      <td>0</td>\n",
              "      <td>0</td>\n",
              "      <td>0</td>\n",
              "      <td>0</td>\n",
              "      <td>0</td>\n",
              "    </tr>\n",
              "    <tr>\n",
              "      <th>District_Name_NAGPUR</th>\n",
              "      <td>0</td>\n",
              "      <td>0</td>\n",
              "      <td>0</td>\n",
              "      <td>0</td>\n",
              "      <td>0</td>\n",
              "    </tr>\n",
              "    <tr>\n",
              "      <th>District_Name_NANDED</th>\n",
              "      <td>0</td>\n",
              "      <td>0</td>\n",
              "      <td>0</td>\n",
              "      <td>1</td>\n",
              "      <td>0</td>\n",
              "    </tr>\n",
              "    <tr>\n",
              "      <th>District_Name_NANDURBAR</th>\n",
              "      <td>0</td>\n",
              "      <td>0</td>\n",
              "      <td>0</td>\n",
              "      <td>0</td>\n",
              "      <td>0</td>\n",
              "    </tr>\n",
              "    <tr>\n",
              "      <th>District_Name_NASHIK</th>\n",
              "      <td>0</td>\n",
              "      <td>0</td>\n",
              "      <td>0</td>\n",
              "      <td>0</td>\n",
              "      <td>0</td>\n",
              "    </tr>\n",
              "    <tr>\n",
              "      <th>District_Name_OSMANABAD</th>\n",
              "      <td>0</td>\n",
              "      <td>0</td>\n",
              "      <td>0</td>\n",
              "      <td>0</td>\n",
              "      <td>0</td>\n",
              "    </tr>\n",
              "    <tr>\n",
              "      <th>District_Name_PALGHAR</th>\n",
              "      <td>0</td>\n",
              "      <td>0</td>\n",
              "      <td>0</td>\n",
              "      <td>0</td>\n",
              "      <td>0</td>\n",
              "    </tr>\n",
              "    <tr>\n",
              "      <th>District_Name_PARBHANI</th>\n",
              "      <td>0</td>\n",
              "      <td>0</td>\n",
              "      <td>0</td>\n",
              "      <td>0</td>\n",
              "      <td>0</td>\n",
              "    </tr>\n",
              "    <tr>\n",
              "      <th>District_Name_PUNE</th>\n",
              "      <td>0</td>\n",
              "      <td>0</td>\n",
              "      <td>0</td>\n",
              "      <td>0</td>\n",
              "      <td>1</td>\n",
              "    </tr>\n",
              "    <tr>\n",
              "      <th>District_Name_RAIGAD</th>\n",
              "      <td>0</td>\n",
              "      <td>0</td>\n",
              "      <td>0</td>\n",
              "      <td>0</td>\n",
              "      <td>0</td>\n",
              "    </tr>\n",
              "    <tr>\n",
              "      <th>District_Name_RATNAGIRI</th>\n",
              "      <td>0</td>\n",
              "      <td>0</td>\n",
              "      <td>0</td>\n",
              "      <td>0</td>\n",
              "      <td>0</td>\n",
              "    </tr>\n",
              "    <tr>\n",
              "      <th>District_Name_SANGLI</th>\n",
              "      <td>0</td>\n",
              "      <td>0</td>\n",
              "      <td>0</td>\n",
              "      <td>0</td>\n",
              "      <td>0</td>\n",
              "    </tr>\n",
              "    <tr>\n",
              "      <th>District_Name_SATARA</th>\n",
              "      <td>0</td>\n",
              "      <td>0</td>\n",
              "      <td>0</td>\n",
              "      <td>0</td>\n",
              "      <td>0</td>\n",
              "    </tr>\n",
              "    <tr>\n",
              "      <th>District_Name_SINDHUDURG</th>\n",
              "      <td>0</td>\n",
              "      <td>0</td>\n",
              "      <td>0</td>\n",
              "      <td>0</td>\n",
              "      <td>0</td>\n",
              "    </tr>\n",
              "    <tr>\n",
              "      <th>District_Name_SOLAPUR</th>\n",
              "      <td>0</td>\n",
              "      <td>0</td>\n",
              "      <td>0</td>\n",
              "      <td>0</td>\n",
              "      <td>0</td>\n",
              "    </tr>\n",
              "    <tr>\n",
              "      <th>District_Name_THANE</th>\n",
              "      <td>0</td>\n",
              "      <td>0</td>\n",
              "      <td>0</td>\n",
              "      <td>0</td>\n",
              "      <td>0</td>\n",
              "    </tr>\n",
              "    <tr>\n",
              "      <th>District_Name_WARDHA</th>\n",
              "      <td>0</td>\n",
              "      <td>0</td>\n",
              "      <td>0</td>\n",
              "      <td>0</td>\n",
              "      <td>0</td>\n",
              "    </tr>\n",
              "    <tr>\n",
              "      <th>District_Name_WASHIM</th>\n",
              "      <td>0</td>\n",
              "      <td>0</td>\n",
              "      <td>0</td>\n",
              "      <td>0</td>\n",
              "      <td>0</td>\n",
              "    </tr>\n",
              "    <tr>\n",
              "      <th>District_Name_YAVATMAL</th>\n",
              "      <td>0</td>\n",
              "      <td>0</td>\n",
              "      <td>0</td>\n",
              "      <td>0</td>\n",
              "      <td>0</td>\n",
              "    </tr>\n",
              "    <tr>\n",
              "      <th>Season_Kharif</th>\n",
              "      <td>0</td>\n",
              "      <td>1</td>\n",
              "      <td>0</td>\n",
              "      <td>0</td>\n",
              "      <td>1</td>\n",
              "    </tr>\n",
              "    <tr>\n",
              "      <th>Season_Rabi</th>\n",
              "      <td>1</td>\n",
              "      <td>0</td>\n",
              "      <td>1</td>\n",
              "      <td>1</td>\n",
              "      <td>0</td>\n",
              "    </tr>\n",
              "    <tr>\n",
              "      <th>Season_Summer</th>\n",
              "      <td>0</td>\n",
              "      <td>0</td>\n",
              "      <td>0</td>\n",
              "      <td>0</td>\n",
              "      <td>0</td>\n",
              "    </tr>\n",
              "    <tr>\n",
              "      <th>Season_Whole Year</th>\n",
              "      <td>0</td>\n",
              "      <td>0</td>\n",
              "      <td>0</td>\n",
              "      <td>0</td>\n",
              "      <td>0</td>\n",
              "    </tr>\n",
              "    <tr>\n",
              "      <th>Crop_Bajra</th>\n",
              "      <td>0</td>\n",
              "      <td>0</td>\n",
              "      <td>0</td>\n",
              "      <td>0</td>\n",
              "      <td>1</td>\n",
              "    </tr>\n",
              "    <tr>\n",
              "      <th>Crop_Cotton(lint)</th>\n",
              "      <td>0</td>\n",
              "      <td>0</td>\n",
              "      <td>0</td>\n",
              "      <td>0</td>\n",
              "      <td>0</td>\n",
              "    </tr>\n",
              "    <tr>\n",
              "      <th>Crop_Jowar</th>\n",
              "      <td>0</td>\n",
              "      <td>1</td>\n",
              "      <td>1</td>\n",
              "      <td>0</td>\n",
              "      <td>0</td>\n",
              "    </tr>\n",
              "    <tr>\n",
              "      <th>Crop_Linseed</th>\n",
              "      <td>0</td>\n",
              "      <td>0</td>\n",
              "      <td>0</td>\n",
              "      <td>0</td>\n",
              "      <td>0</td>\n",
              "    </tr>\n",
              "    <tr>\n",
              "      <th>Crop_Maize</th>\n",
              "      <td>0</td>\n",
              "      <td>0</td>\n",
              "      <td>0</td>\n",
              "      <td>0</td>\n",
              "      <td>0</td>\n",
              "    </tr>\n",
              "    <tr>\n",
              "      <th>Crop_Onion</th>\n",
              "      <td>0</td>\n",
              "      <td>0</td>\n",
              "      <td>0</td>\n",
              "      <td>0</td>\n",
              "      <td>0</td>\n",
              "    </tr>\n",
              "    <tr>\n",
              "      <th>Crop_Rice</th>\n",
              "      <td>0</td>\n",
              "      <td>0</td>\n",
              "      <td>0</td>\n",
              "      <td>0</td>\n",
              "      <td>0</td>\n",
              "    </tr>\n",
              "    <tr>\n",
              "      <th>Crop_Sesamum</th>\n",
              "      <td>0</td>\n",
              "      <td>0</td>\n",
              "      <td>0</td>\n",
              "      <td>0</td>\n",
              "      <td>0</td>\n",
              "    </tr>\n",
              "    <tr>\n",
              "      <th>Crop_Wheat</th>\n",
              "      <td>1</td>\n",
              "      <td>0</td>\n",
              "      <td>0</td>\n",
              "      <td>1</td>\n",
              "      <td>0</td>\n",
              "    </tr>\n",
              "  </tbody>\n",
              "</table>\n",
              "</div>"
            ],
            "text/plain": [
              "                               128168       129535       129817       131969  \\\n",
              "State_Name                Maharashtra  Maharashtra  Maharashtra  Maharashtra   \n",
              "Crop_Year                        2003         2008         2002         2003   \n",
              "Area                            31500        31500        31500        31500   \n",
              "Production                      19600        34500        49900        43500   \n",
              "District_Name_AKOLA                 0            0            0            0   \n",
              "District_Name_AMRAVATI              0            0            0            0   \n",
              "District_Name_AURANGABAD            0            0            0            0   \n",
              "District_Name_BEED                  0            0            0            0   \n",
              "District_Name_BHANDARA              0            0            0            0   \n",
              "District_Name_BULDHANA              0            0            0            0   \n",
              "District_Name_CHANDRAPUR            1            0            0            0   \n",
              "District_Name_DHULE                 0            0            0            0   \n",
              "District_Name_GADCHIROLI            0            0            0            0   \n",
              "District_Name_GONDIA                0            0            0            0   \n",
              "District_Name_HINGOLI               0            1            0            0   \n",
              "District_Name_JALGAON               0            0            1            0   \n",
              "District_Name_JALNA                 0            0            0            0   \n",
              "District_Name_KOLHAPUR              0            0            0            0   \n",
              "District_Name_LATUR                 0            0            0            0   \n",
              "District_Name_MUMBAI                0            0            0            0   \n",
              "District_Name_NAGPUR                0            0            0            0   \n",
              "District_Name_NANDED                0            0            0            1   \n",
              "District_Name_NANDURBAR             0            0            0            0   \n",
              "District_Name_NASHIK                0            0            0            0   \n",
              "District_Name_OSMANABAD             0            0            0            0   \n",
              "District_Name_PALGHAR               0            0            0            0   \n",
              "District_Name_PARBHANI              0            0            0            0   \n",
              "District_Name_PUNE                  0            0            0            0   \n",
              "District_Name_RAIGAD                0            0            0            0   \n",
              "District_Name_RATNAGIRI             0            0            0            0   \n",
              "District_Name_SANGLI                0            0            0            0   \n",
              "District_Name_SATARA                0            0            0            0   \n",
              "District_Name_SINDHUDURG            0            0            0            0   \n",
              "District_Name_SOLAPUR               0            0            0            0   \n",
              "District_Name_THANE                 0            0            0            0   \n",
              "District_Name_WARDHA                0            0            0            0   \n",
              "District_Name_WASHIM                0            0            0            0   \n",
              "District_Name_YAVATMAL              0            0            0            0   \n",
              "Season_Kharif                       0            1            0            0   \n",
              "Season_Rabi                         1            0            1            1   \n",
              "Season_Summer                       0            0            0            0   \n",
              "Season_Whole Year                   0            0            0            0   \n",
              "Crop_Bajra                          0            0            0            0   \n",
              "Crop_Cotton(lint)                   0            0            0            0   \n",
              "Crop_Jowar                          0            1            1            0   \n",
              "Crop_Linseed                        0            0            0            0   \n",
              "Crop_Maize                          0            0            0            0   \n",
              "Crop_Onion                          0            0            0            0   \n",
              "Crop_Rice                           0            0            0            0   \n",
              "Crop_Sesamum                        0            0            0            0   \n",
              "Crop_Wheat                          1            0            0            1   \n",
              "\n",
              "                               134492  \n",
              "State_Name                Maharashtra  \n",
              "Crop_Year                        2014  \n",
              "Area                            31500  \n",
              "Production                      26300  \n",
              "District_Name_AKOLA                 0  \n",
              "District_Name_AMRAVATI              0  \n",
              "District_Name_AURANGABAD            0  \n",
              "District_Name_BEED                  0  \n",
              "District_Name_BHANDARA              0  \n",
              "District_Name_BULDHANA              0  \n",
              "District_Name_CHANDRAPUR            0  \n",
              "District_Name_DHULE                 0  \n",
              "District_Name_GADCHIROLI            0  \n",
              "District_Name_GONDIA                0  \n",
              "District_Name_HINGOLI               0  \n",
              "District_Name_JALGAON               0  \n",
              "District_Name_JALNA                 0  \n",
              "District_Name_KOLHAPUR              0  \n",
              "District_Name_LATUR                 0  \n",
              "District_Name_MUMBAI                0  \n",
              "District_Name_NAGPUR                0  \n",
              "District_Name_NANDED                0  \n",
              "District_Name_NANDURBAR             0  \n",
              "District_Name_NASHIK                0  \n",
              "District_Name_OSMANABAD             0  \n",
              "District_Name_PALGHAR               0  \n",
              "District_Name_PARBHANI              0  \n",
              "District_Name_PUNE                  1  \n",
              "District_Name_RAIGAD                0  \n",
              "District_Name_RATNAGIRI             0  \n",
              "District_Name_SANGLI                0  \n",
              "District_Name_SATARA                0  \n",
              "District_Name_SINDHUDURG            0  \n",
              "District_Name_SOLAPUR               0  \n",
              "District_Name_THANE                 0  \n",
              "District_Name_WARDHA                0  \n",
              "District_Name_WASHIM                0  \n",
              "District_Name_YAVATMAL              0  \n",
              "Season_Kharif                       1  \n",
              "Season_Rabi                         0  \n",
              "Season_Summer                       0  \n",
              "Season_Whole Year                   0  \n",
              "Crop_Bajra                          1  \n",
              "Crop_Cotton(lint)                   0  \n",
              "Crop_Jowar                          0  \n",
              "Crop_Linseed                        0  \n",
              "Crop_Maize                          0  \n",
              "Crop_Onion                          0  \n",
              "Crop_Rice                           0  \n",
              "Crop_Sesamum                        0  \n",
              "Crop_Wheat                          0  "
            ]
          },
          "execution_count": 170,
          "metadata": {},
          "output_type": "execute_result"
        }
      ],
      "source": [
        "maharashtra_filtered_ohe[(maharashtra_filtered_ohe['Area']==31500.)].transpose()"
      ]
    },
    {
      "cell_type": "code",
      "execution_count": null,
      "metadata": {
        "id": "k32VmIQjdqBv",
        "outputId": "1d10746c-93b1-4002-f16f-2e755eec65d3"
      },
      "outputs": [
        {
          "name": "stdout",
          "output_type": "stream",
          "text": [
            "<class 'pandas.core.frame.DataFrame'>\n",
            "Int64Index: 5465 entries, 125191 to 137816\n",
            "Data columns (total 51 columns):\n",
            " #   Column                    Non-Null Count  Dtype  \n",
            "---  ------                    --------------  -----  \n",
            " 0   State_Name                5465 non-null   object \n",
            " 1   Crop_Year                 5465 non-null   int64  \n",
            " 2   Area                      5465 non-null   float64\n",
            " 3   Production                5465 non-null   float64\n",
            " 4   District_Name_AKOLA       5465 non-null   uint8  \n",
            " 5   District_Name_AMRAVATI    5465 non-null   uint8  \n",
            " 6   District_Name_AURANGABAD  5465 non-null   uint8  \n",
            " 7   District_Name_BEED        5465 non-null   uint8  \n",
            " 8   District_Name_BHANDARA    5465 non-null   uint8  \n",
            " 9   District_Name_BULDHANA    5465 non-null   uint8  \n",
            " 10  District_Name_CHANDRAPUR  5465 non-null   uint8  \n",
            " 11  District_Name_DHULE       5465 non-null   uint8  \n",
            " 12  District_Name_GADCHIROLI  5465 non-null   uint8  \n",
            " 13  District_Name_GONDIA      5465 non-null   uint8  \n",
            " 14  District_Name_HINGOLI     5465 non-null   uint8  \n",
            " 15  District_Name_JALGAON     5465 non-null   uint8  \n",
            " 16  District_Name_JALNA       5465 non-null   uint8  \n",
            " 17  District_Name_KOLHAPUR    5465 non-null   uint8  \n",
            " 18  District_Name_LATUR       5465 non-null   uint8  \n",
            " 19  District_Name_MUMBAI      5465 non-null   uint8  \n",
            " 20  District_Name_NAGPUR      5465 non-null   uint8  \n",
            " 21  District_Name_NANDED      5465 non-null   uint8  \n",
            " 22  District_Name_NANDURBAR   5465 non-null   uint8  \n",
            " 23  District_Name_NASHIK      5465 non-null   uint8  \n",
            " 24  District_Name_OSMANABAD   5465 non-null   uint8  \n",
            " 25  District_Name_PALGHAR     5465 non-null   uint8  \n",
            " 26  District_Name_PARBHANI    5465 non-null   uint8  \n",
            " 27  District_Name_PUNE        5465 non-null   uint8  \n",
            " 28  District_Name_RAIGAD      5465 non-null   uint8  \n",
            " 29  District_Name_RATNAGIRI   5465 non-null   uint8  \n",
            " 30  District_Name_SANGLI      5465 non-null   uint8  \n",
            " 31  District_Name_SATARA      5465 non-null   uint8  \n",
            " 32  District_Name_SINDHUDURG  5465 non-null   uint8  \n",
            " 33  District_Name_SOLAPUR     5465 non-null   uint8  \n",
            " 34  District_Name_THANE       5465 non-null   uint8  \n",
            " 35  District_Name_WARDHA      5465 non-null   uint8  \n",
            " 36  District_Name_WASHIM      5465 non-null   uint8  \n",
            " 37  District_Name_YAVATMAL    5465 non-null   uint8  \n",
            " 38  Season_Kharif             5465 non-null   uint8  \n",
            " 39  Season_Rabi               5465 non-null   uint8  \n",
            " 40  Season_Summer             5465 non-null   uint8  \n",
            " 41  Season_Whole Year         5465 non-null   uint8  \n",
            " 42  Crop_Bajra                5465 non-null   uint8  \n",
            " 43  Crop_Cotton(lint)         5465 non-null   uint8  \n",
            " 44  Crop_Jowar                5465 non-null   uint8  \n",
            " 45  Crop_Linseed              5465 non-null   uint8  \n",
            " 46  Crop_Maize                5465 non-null   uint8  \n",
            " 47  Crop_Onion                5465 non-null   uint8  \n",
            " 48  Crop_Rice                 5465 non-null   uint8  \n",
            " 49  Crop_Sesamum              5465 non-null   uint8  \n",
            " 50  Crop_Wheat                5465 non-null   uint8  \n",
            "dtypes: float64(2), int64(1), object(1), uint8(47)\n",
            "memory usage: 464.3+ KB\n"
          ]
        }
      ],
      "source": [
        "maharashtra_filtered_ohe.info()"
      ]
    },
    {
      "cell_type": "code",
      "execution_count": null,
      "metadata": {
        "id": "YmqE1rs4dqBv",
        "outputId": "d4ec92ff-3543-4186-a41c-b5bf5e302210"
      },
      "outputs": [
        {
          "data": {
            "text/plain": [
              "Index(['State_Name', 'Crop_Year', 'Area', 'Production', 'District_Name_AKOLA',\n",
              "       'District_Name_AMRAVATI', 'District_Name_AURANGABAD',\n",
              "       'District_Name_BEED', 'District_Name_BHANDARA',\n",
              "       'District_Name_BULDHANA', 'District_Name_CHANDRAPUR',\n",
              "       'District_Name_DHULE', 'District_Name_GADCHIROLI',\n",
              "       'District_Name_GONDIA', 'District_Name_HINGOLI',\n",
              "       'District_Name_JALGAON', 'District_Name_JALNA',\n",
              "       'District_Name_KOLHAPUR', 'District_Name_LATUR', 'District_Name_MUMBAI',\n",
              "       'District_Name_NAGPUR', 'District_Name_NANDED',\n",
              "       'District_Name_NANDURBAR', 'District_Name_NASHIK',\n",
              "       'District_Name_OSMANABAD', 'District_Name_PALGHAR',\n",
              "       'District_Name_PARBHANI', 'District_Name_PUNE', 'District_Name_RAIGAD',\n",
              "       'District_Name_RATNAGIRI', 'District_Name_SANGLI',\n",
              "       'District_Name_SATARA', 'District_Name_SINDHUDURG',\n",
              "       'District_Name_SOLAPUR', 'District_Name_THANE', 'District_Name_WARDHA',\n",
              "       'District_Name_WASHIM', 'District_Name_YAVATMAL', 'Season_Kharif     ',\n",
              "       'Season_Rabi       ', 'Season_Summer     ', 'Season_Whole Year ',\n",
              "       'Crop_Bajra', 'Crop_Cotton(lint)', 'Crop_Jowar', 'Crop_Linseed',\n",
              "       'Crop_Maize', 'Crop_Onion', 'Crop_Rice', 'Crop_Sesamum', 'Crop_Wheat'],\n",
              "      dtype='object')"
            ]
          },
          "execution_count": 174,
          "metadata": {},
          "output_type": "execute_result"
        }
      ],
      "source": [
        "maharashtra_filtered_ohe.columns"
      ]
    },
    {
      "cell_type": "code",
      "execution_count": null,
      "metadata": {
        "id": "V0R08wQsdqBw"
      },
      "outputs": [],
      "source": [
        "X = maharashtra_filtered_ohe.drop(['State_Name','Crop_Year','Production'],axis=1).values\n",
        "y = maharashtra_filtered_ohe.iloc[:,3].values"
      ]
    },
    {
      "cell_type": "code",
      "execution_count": null,
      "metadata": {
        "id": "2LO2Ol_VdqBw"
      },
      "outputs": [],
      "source": [
        "from sklearn.model_selection import train_test_split\n",
        "X_train, X_test, y_train, y_test = train_test_split(X, y, test_size=0.3, random_state=101)"
      ]
    },
    {
      "cell_type": "code",
      "execution_count": null,
      "metadata": {
        "id": "btjbmlHUdqBw"
      },
      "outputs": [],
      "source": [
        "from sklearn.linear_model import LinearRegression,Lasso\n",
        "linear_regression = LinearRegression()\n",
        "lasso = Lasso(alpha=100,max_iter=10000)"
      ]
    },
    {
      "cell_type": "code",
      "execution_count": null,
      "metadata": {
        "id": "eMKHNW1zdqBw",
        "outputId": "b338a00c-3d5c-4b02-e5d7-726688486d8c"
      },
      "outputs": [
        {
          "data": {
            "text/plain": [
              "Lasso(alpha=100, max_iter=10000)"
            ]
          },
          "execution_count": 127,
          "metadata": {},
          "output_type": "execute_result"
        }
      ],
      "source": [
        "linear_regression.fit(X_train,y_train)\n",
        "lasso.fit(X_train,y_train)"
      ]
    },
    {
      "cell_type": "code",
      "execution_count": null,
      "metadata": {
        "id": "7HtFjUPCdqBw"
      },
      "outputs": [],
      "source": [
        "from sklearn.ensemble import RandomForestRegressor\n",
        "rfregressor = RandomForestRegressor()"
      ]
    },
    {
      "cell_type": "code",
      "execution_count": null,
      "metadata": {
        "id": "HNUBrFI3dqBw",
        "outputId": "07d94286-84e6-4743-c061-ca940842c41c"
      },
      "outputs": [
        {
          "data": {
            "text/plain": [
              "RandomForestRegressor()"
            ]
          },
          "execution_count": 129,
          "metadata": {},
          "output_type": "execute_result"
        }
      ],
      "source": [
        "rfregressor.fit(X_train,y_train)"
      ]
    },
    {
      "cell_type": "code",
      "execution_count": null,
      "metadata": {
        "id": "jd7wKNWodqBw"
      },
      "outputs": [],
      "source": [
        "y_pred = rfregressor.predict(X_test)"
      ]
    },
    {
      "cell_type": "code",
      "execution_count": null,
      "metadata": {
        "id": "kKAYNpz9dqBw",
        "outputId": "7f488e5d-634f-4fd4-b399-0af4eecc4790"
      },
      "outputs": [
        {
          "data": {
            "text/plain": [
              "array([3.15e+04, 0.00e+00, 0.00e+00, 0.00e+00, 0.00e+00, 0.00e+00,\n",
              "       0.00e+00, 0.00e+00, 0.00e+00, 0.00e+00, 0.00e+00, 0.00e+00,\n",
              "       0.00e+00, 0.00e+00, 0.00e+00, 0.00e+00, 0.00e+00, 0.00e+00,\n",
              "       1.00e+00, 0.00e+00, 0.00e+00, 0.00e+00, 0.00e+00, 0.00e+00,\n",
              "       0.00e+00, 0.00e+00, 0.00e+00, 0.00e+00, 0.00e+00, 0.00e+00,\n",
              "       0.00e+00, 0.00e+00, 0.00e+00, 0.00e+00, 0.00e+00, 0.00e+00,\n",
              "       1.00e+00, 0.00e+00, 0.00e+00, 0.00e+00, 0.00e+00, 0.00e+00,\n",
              "       0.00e+00, 0.00e+00, 0.00e+00, 0.00e+00, 0.00e+00, 1.00e+00])"
            ]
          },
          "execution_count": 141,
          "metadata": {},
          "output_type": "execute_result"
        }
      ],
      "source": [
        "X_train[0]"
      ]
    },
    {
      "cell_type": "code",
      "execution_count": null,
      "metadata": {
        "id": "-MQGWUGVdqBx",
        "outputId": "2c60fd52-4df5-4a17-c1fa-a0148383f675"
      },
      "outputs": [
        {
          "data": {
            "text/plain": [
              "48"
            ]
          },
          "execution_count": 132,
          "metadata": {},
          "output_type": "execute_result"
        }
      ],
      "source": [
        "len(X_test[0])"
      ]
    },
    {
      "cell_type": "code",
      "execution_count": null,
      "metadata": {
        "id": "vYorgd8TdqBx",
        "outputId": "72abf981-8632-4cfa-9795-d1be77d1cf7d"
      },
      "outputs": [
        {
          "name": "stdout",
          "output_type": "stream",
          "text": [
            "81.20256400045542 %\n"
          ]
        }
      ],
      "source": [
        "accuracy = rfregressor.score(X_test,y_test)\n",
        "print(accuracy*100,'%')"
      ]
    },
    {
      "cell_type": "code",
      "execution_count": null,
      "metadata": {
        "id": "JDqrkJ_idqBx",
        "outputId": "f494e945-8c21-4915-875c-4907ea6b88d9"
      },
      "outputs": [
        {
          "name": "stdout",
          "output_type": "stream",
          "text": [
            "68.77295150219834 %\n"
          ]
        }
      ],
      "source": [
        "accuracy = lasso.score(X_test,y_test)\n",
        "print(accuracy*100,'%')"
      ]
    },
    {
      "cell_type": "code",
      "execution_count": null,
      "metadata": {
        "id": "W_Q0FTMudqBx",
        "outputId": "81e92538-bc97-491f-9b49-8855589ceca5"
      },
      "outputs": [
        {
          "name": "stdout",
          "output_type": "stream",
          "text": [
            "69.22897418999504 %\n"
          ]
        }
      ],
      "source": [
        "accuracy = linear_regression.score(X_test,y_test)\n",
        "print(accuracy*100,'%')"
      ]
    },
    {
      "cell_type": "code",
      "execution_count": null,
      "metadata": {
        "id": "RMWH6qzYdqBx"
      },
      "outputs": [],
      "source": [
        "import matplotlib.pyplot as plt\n",
        "%matplotlib inline"
      ]
    },
    {
      "cell_type": "code",
      "execution_count": null,
      "metadata": {
        "id": "N6-LmCBDdqBx",
        "outputId": "d3738262-ba36-43a5-e6ba-397305ed03fb"
      },
      "outputs": [
        {
          "data": {
            "text/plain": [
              "[<matplotlib.lines.Line2D at 0x262eb4e45f8>]"
            ]
          },
          "execution_count": 137,
          "metadata": {},
          "output_type": "execute_result"
        },
        {
          "data": {
            "image/png": "[encoded data removed]",
            "text/plain": [
              "<Figure size 1152x432 with 1 Axes>"
            ]
          },
          "metadata": {
            "needs_background": "light"
          },
          "output_type": "display_data"
        }
      ],
      "source": [
        "plt.figure(figsize=(16,6))\n",
        "plt.plot(y_test,color='blue')\n",
        "plt.plot(y_pred,color='orange')"
      ]
    },
    {
      "cell_type": "code",
      "execution_count": null,
      "metadata": {
        "id": "141x8wz7dqBx",
        "outputId": "249570dc-437f-4de3-c378-b68964856d45"
      },
      "outputs": [
        {
          "name": "stdout",
          "output_type": "stream",
          "text": [
            "Accuracy-  81.20256400045542 %\n",
            "Prediction- \n"
          ]
        }
      ],
      "source": [
        "filename = 'Maharashtra_Model.sav'\n",
        "pickle.dump(rfregressor, open(filename, 'wb'))\n",
        "\n",
        "# load the model from disk\n",
        "loaded_model = pickle.load(open(filename, 'rb'))\n",
        "result = loaded_model.score(X_test, y_test)\n",
        "predict = loaded_model.predict([31500.0,])\n",
        "print('Accuracy- ', result*100,'%')\n",
        "print('Prediction- ')"
      ]
    },
    {
      "cell_type": "code",
      "execution_count": null,
      "metadata": {
        "id": "OjjZhg6-dqBy"
      },
      "outputs": [],
      "source": [
        "def maharashtra_dict(area,district_name,season_name,crop_name):\n",
        "    mh_dict = {\n",
        "       'area':0,\n",
        "       'District_Name_AKOLA':0,\n",
        "       'District_Name_AMRAVATI':0,\n",
        "       'District_Name_AURANGABAD':0,\n",
        "       'District_Name_BEED':0,\n",
        "       'District_Name_BHANDARA':0,\n",
        "       'District_Name_BULDHANA':0,\n",
        "       'District_Name_CHANDRAPUR':0,\n",
        "       'District_Name_DHULE':0,\n",
        "       'District_Name_GADCHIROLI':0,\n",
        "       'District_Name_GONDIA':0,\n",
        "       'District_Name_HINGOLI':0,\n",
        "       'District_Name_JALGAON':0,\n",
        "       'District_Name_JALNA':0,\n",
        "       'District_Name_KOLHAPUR':0,\n",
        "       'District_Name_LATUR':0,\n",
        "       'District_Name_MUMBAI':0,\n",
        "       'District_Name_NAGPUR':0,\n",
        "       'District_Name_NANDED':0,\n",
        "       'District_Name_NANDURBAR':0,\n",
        "       'District_Name_NASHIK':0,\n",
        "       'District_Name_OSMANABAD':0,\n",
        "       'District_Name_PALGHAR':0,\n",
        "       'District_Name_PARBHANI':0,\n",
        "       'District_Name_PUNE':0,\n",
        "       'District_Name_RAIGAD':0,\n",
        "       'District_Name_RATNAGIRI':0,\n",
        "       'District_Name_SANGLI':0,\n",
        "       'District_Name_SATARA':0,\n",
        "       'District_Name_SINDHUDURG':0,\n",
        "       'District_Name_SOLAPUR':0,\n",
        "       'District_Name_THANE':0,\n",
        "       'District_Name_WARDHA':0,\n",
        "       'District_Name_WASHIM':0,\n",
        "       'District_Name_YAVATMAL':0,\n",
        "       'Season_Kharif     ':0,\n",
        "       'Season_Rabi       ':0,\n",
        "       'Season_Summer     ':0,\n",
        "       'Season_Whole Year ':0,\n",
        "       'Crop_Bajra':0,\n",
        "       'Crop_Cotton(lint)':0,\n",
        "       'Crop_Jowar':0,\n",
        "       'Crop_Linseed':0,\n",
        "       'Crop_Maize':0,\n",
        "       'Crop_Onion':0,\n",
        "       'Crop_Rice':0,\n",
        "       'Crop_Sesamum':0,\n",
        "       'Crop_Wheat':0\n",
        "      }\n",
        "    mh_dict['area'] = area\n",
        "    mh_dict[district_name] = 1\n",
        "    mh_dict[season_name] = 1\n",
        "    mh_dict[crop_name] = 1\n",
        "    data = list(mh_dict.values())\n",
        "    input_arr = np.array(data)\n",
        "    print(input_arr)\n",
        "    return input_arr"
      ]
    },
    {
      "cell_type": "code",
      "execution_count": null,
      "metadata": {
        "id": "3nGR8ApxdqBy",
        "outputId": "572b8f84-3592-4ac1-8cc1-dc8e45281969"
      },
      "outputs": [
        {
          "name": "stdout",
          "output_type": "stream",
          "text": [
            "[31500     0     0     0     0     0     0     0     0     0     0     0\n",
            "     0     0     0     0     0     0     1     0     0     0     0     0\n",
            "     0     0     0     0     0     0     0     0     0     0     0     0\n",
            "     1     0     0     0     0     0     0     0     0     0     0     1]\n"
          ]
        }
      ],
      "source": [
        "arr = maharashtra_dict(31500,'District_Name_NANDED','Season_Rabi       ','Crop_Wheat')"
      ]
    },
    {
      "cell_type": "code",
      "execution_count": null,
      "metadata": {
        "id": "K3Sobgr0dqB0"
      },
      "outputs": [],
      "source": [
        "predict = loaded_model.predict([arr])"
      ]
    },
    {
      "cell_type": "code",
      "execution_count": null,
      "metadata": {
        "id": "zZ5OjnczdqB0",
        "outputId": "693aecc0-e1b2-4ef3-958f-bf677d13c028"
      },
      "outputs": [
        {
          "data": {
            "text/plain": [
              "array([43183.])"
            ]
          },
          "execution_count": 189,
          "metadata": {},
          "output_type": "execute_result"
        }
      ],
      "source": [
        "predict"
      ]
    },
    {
      "cell_type": "code",
      "execution_count": null,
      "metadata": {
        "id": "R6XvioQbdqB0"
      },
      "outputs": [],
      "source": []
    }
  ],
  "metadata": {
    "kernelspec": {
      "display_name": "Python 3",
      "language": "python",
      "name": "python3"
    },
    "language_info": {
      "codemirror_mode": {
        "name": "ipython",
        "version": 3
      },
      "file_extension": ".py",
      "mimetype": "text/x-python",
      "name": "python",
      "nbconvert_exporter": "python",
      "pygments_lexer": "ipython3",
      "version": "3.7.1"
    },
    "colab": {
      "provenance": []
    }
  },
  "nbformat": 4,
  "nbformat_minor": 0
}